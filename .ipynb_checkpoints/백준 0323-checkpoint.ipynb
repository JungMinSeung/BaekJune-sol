{
 "cells": [
  {
   "cell_type": "markdown",
   "metadata": {},
   "source": [
    "# 백준 2675번 : 문자열 반복"
   ]
  },
  {
   "cell_type": "code",
   "execution_count": null,
   "metadata": {},
   "outputs": [],
   "source": [
    "T=int(input())\n",
    "for _ in range(T):\n",
    "    iter_,string=input().split()\n",
    "    for char in string:\n",
    "        print(char*int(iter_),end='')\n",
    "    print()    "
   ]
  },
  {
   "cell_type": "markdown",
   "metadata": {},
   "source": [
    "# 백준 1157번 : 단어 공부"
   ]
  },
  {
   "cell_type": "code",
   "execution_count": null,
   "metadata": {},
   "outputs": [],
   "source": [
    "string=input()\n",
    "A_dic={}\n",
    "a_dic={}\n",
    "for key in range(65,91):\n",
    "    A_dic[chr(key)]=0\n",
    "    a_dic[chr(key+32)]=0\n",
    "for char in string:\n",
    "    if char in A_dic.keys():\n",
    "        A_dic[char]+=1\n",
    "    else:\n",
    "        a_dic[char]+=1\n",
    "for key in range(65,91):\n",
    "    A_dic[chr(key)]+=a_dic[chr(key+32)]\n",
    "max_key=0\n",
    "max_value=0\n",
    "for key,value in A_dic.items():\n",
    "    if max_value==value:\n",
    "        max_key='?'\n",
    "    elif max_value<value:\n",
    "        max_value=value\n",
    "        max_key=key\n",
    "print(max_key)\n",
    "    \n",
    "    \n"
   ]
  },
  {
   "cell_type": "markdown",
   "metadata": {},
   "source": [
    "## 내장함수 이용 o : count() "
   ]
  },
  {
   "cell_type": "code",
   "execution_count": null,
   "metadata": {},
   "outputs": [],
   "source": [
    "word=input()\n",
    "result=[]\n",
    "for i in range(97,123):\n",
    "    result.append(word.count(chr(i))+word.count(chr(i-32)))\n",
    "\n",
    "maxnum=max(result)       \n",
    "if result.count(maxnum)>1:\n",
    "    print('?')\n",
    "else:\n",
    "    print(chr(result.index(max(result))+65))"
   ]
  },
  {
   "cell_type": "code",
   "execution_count": null,
   "metadata": {},
   "outputs": [],
   "source": [
    "list_=[0,0,2,3,5]\n",
    "list_index=list_.index(max(list_))\n",
    "print(list_index)"
   ]
  },
  {
   "cell_type": "code",
   "execution_count": null,
   "metadata": {},
   "outputs": [],
   "source": [
    "word = input()\n",
    "if len(word) == 1:\n",
    "    print(word.upper())\n",
    "else:\n",
    "    upper_word = word.upper()\n",
    "    alpha_lst = list(map(chr, range(97, 123) ))\n",
    "    upper_lst = []\n",
    "    for a in alpha_lst:\n",
    "        upper_lst.append(a.upper())\n",
    "    \n",
    "    count_lst = []\n",
    "    count_lst_2 = []\n",
    "    max_char = \"\"\n",
    "    max_num = 0\n",
    "    for a in upper_lst:\n",
    "        count_lst.append(upper_word.count(a))\n",
    "        \n",
    "    sorted_count_lst = sorted(count_lst)\n",
    "    \n",
    "    if sorted_count_lst[-1] == sorted_count_lst[-2]:\n",
    "        print(\"?\")\n",
    "    else:\n",
    "        max_char_index = count_lst.index(max(count_lst)) #값으로 인덱스 찾기\n",
    "        print(upper_lst[max_char_index])"
   ]
  },
  {
   "cell_type": "markdown",
   "metadata": {},
   "source": [
    "# 백준 1152번 : 단어의 개수"
   ]
  },
  {
   "cell_type": "code",
   "execution_count": 14,
   "metadata": {},
   "outputs": [
    {
     "name": "stdout",
     "output_type": "stream",
     "text": [
      " a cat a\n",
      "['a', 'cat', 'a']\n"
     ]
    }
   ],
   "source": [
    "Sen=input()\n",
    "word_cnt=1\n",
    "if Sen[0]==' ':\n",
    "    word_cnt-=1\n",
    "if Sen[-1]==' ':\n",
    "    word_cnt-=1\n",
    "for word in Sen:\n",
    "    if word == ' ':\n",
    "        word_cnt+=1\n",
    "print(word_cnt)\n"
   ]
  },
  {
   "cell_type": "markdown",
   "metadata": {},
   "source": [
    "## 한 줄 -> split() 이용"
   ]
  },
  {
   "cell_type": "code",
   "execution_count": 15,
   "metadata": {},
   "outputs": [
    {
     "name": "stdout",
     "output_type": "stream",
     "text": [
      "aa s s\n",
      "3\n"
     ]
    }
   ],
   "source": [
    "print(len(input().split()))"
   ]
  },
  {
   "cell_type": "markdown",
   "metadata": {},
   "source": [
    "# 백준 2908번 : 상수"
   ]
  },
  {
   "cell_type": "code",
   "execution_count": 26,
   "metadata": {},
   "outputs": [
    {
     "name": "stdout",
     "output_type": "stream",
     "text": [
      "734 893\n",
      "398\n"
     ]
    }
   ],
   "source": []
  },
  {
   "cell_type": "code",
   "execution_count": null,
   "metadata": {},
   "outputs": [],
   "source": []
  }
 ],
 "metadata": {
  "kernelspec": {
   "display_name": "Python 3",
   "language": "python",
   "name": "python3"
  },
  "language_info": {
   "codemirror_mode": {
    "name": "ipython",
    "version": 3
   },
   "file_extension": ".py",
   "mimetype": "text/x-python",
   "name": "python",
   "nbconvert_exporter": "python",
   "pygments_lexer": "ipython3",
   "version": "3.7.4"
  }
 },
 "nbformat": 4,
 "nbformat_minor": 2
}
