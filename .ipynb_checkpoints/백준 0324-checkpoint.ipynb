{
 "cells": [
  {
   "cell_type": "markdown",
   "metadata": {},
   "source": [
    "# 백준 2675번 : 문자열 반복"
   ]
  },
  {
   "cell_type": "code",
   "execution_count": null,
   "metadata": {},
   "outputs": [],
   "source": [
    "T=int(input())\n",
    "for _ in range(T):\n",
    "    iter_,string=input().split()\n",
    "    for char in string:\n",
    "        print(char*int(iter_),end='')\n",
    "    print()    "
   ]
  },
  {
   "cell_type": "markdown",
   "metadata": {},
   "source": [
    "# 백준 1157번 : 단어 공부"
   ]
  },
  {
   "cell_type": "code",
   "execution_count": null,
   "metadata": {},
   "outputs": [],
   "source": [
    "string=input()\n",
    "A_dic={}\n",
    "a_dic={}\n",
    "for key in range(65,91):\n",
    "    A_dic[chr(key)]=0\n",
    "    a_dic[chr(key+32)]=0\n",
    "for char in string:\n",
    "    if char in A_dic.keys():\n",
    "        A_dic[char]+=1\n",
    "    else:\n",
    "        a_dic[char]+=1\n",
    "for key in range(65,91):\n",
    "    A_dic[chr(key)]+=a_dic[chr(key+32)]\n",
    "max_key=0\n",
    "max_value=0\n",
    "for key,value in A_dic.items():\n",
    "    if max_value==value:\n",
    "        max_key='?'\n",
    "    elif max_value<value:\n",
    "        max_value=value\n",
    "        max_key=key\n",
    "print(max_key)\n",
    "    \n",
    "    \n"
   ]
  },
  {
   "cell_type": "markdown",
   "metadata": {},
   "source": [
    "## 내장함수 이용 o : count() "
   ]
  },
  {
   "cell_type": "code",
   "execution_count": null,
   "metadata": {},
   "outputs": [],
   "source": [
    "word=input()\n",
    "result=[]\n",
    "for i in range(97,123):\n",
    "    result.append(word.count(chr(i))+word.count(chr(i-32)))\n",
    "\n",
    "maxnum=max(result)       \n",
    "if result.count(maxnum)>1:\n",
    "    print('?')\n",
    "else:\n",
    "    print(chr(result.index(max(result))+65))"
   ]
  },
  {
   "cell_type": "code",
   "execution_count": null,
   "metadata": {},
   "outputs": [],
   "source": [
    "list_=[0,0,2,3,5]\n",
    "list_index=list_.index(max(list_))\n",
    "print(list_index)"
   ]
  },
  {
   "cell_type": "code",
   "execution_count": null,
   "metadata": {},
   "outputs": [],
   "source": [
    "word = input()\n",
    "if len(word) == 1:\n",
    "    print(word.upper())\n",
    "else:\n",
    "    upper_word = word.upper()\n",
    "    alpha_lst = list(map(chr, range(97, 123) ))\n",
    "    upper_lst = []\n",
    "    for a in alpha_lst:\n",
    "        upper_lst.append(a.upper())\n",
    "    \n",
    "    count_lst = []\n",
    "    count_lst_2 = []\n",
    "    max_char = \"\"\n",
    "    max_num = 0\n",
    "    for a in upper_lst:\n",
    "        count_lst.append(upper_word.count(a))\n",
    "        \n",
    "    sorted_count_lst = sorted(count_lst)\n",
    "    \n",
    "    if sorted_count_lst[-1] == sorted_count_lst[-2]:\n",
    "        print(\"?\")\n",
    "    else:\n",
    "        max_char_index = count_lst.index(max(count_lst)) #값으로 인덱스 찾기\n",
    "        print(upper_lst[max_char_index])"
   ]
  },
  {
   "cell_type": "markdown",
   "metadata": {},
   "source": [
    "# 백준 1152번 : 단어의 개수"
   ]
  },
  {
   "cell_type": "code",
   "execution_count": null,
   "metadata": {},
   "outputs": [],
   "source": [
    "Sen=input()\n",
    "word_cnt=1\n",
    "if Sen[0]==' ':\n",
    "    word_cnt-=1\n",
    "if Sen[-1]==' ':\n",
    "    word_cnt-=1\n",
    "for word in Sen:\n",
    "    if word == ' ':\n",
    "        word_cnt+=1\n",
    "print(word_cnt)\n"
   ]
  },
  {
   "cell_type": "markdown",
   "metadata": {},
   "source": [
    "## 한 줄 -> split() 이용"
   ]
  },
  {
   "cell_type": "code",
   "execution_count": null,
   "metadata": {},
   "outputs": [],
   "source": [
    "print(len(input().split()))"
   ]
  },
  {
   "cell_type": "markdown",
   "metadata": {},
   "source": [
    "# 백준 2908번 : 상수"
   ]
  },
  {
   "cell_type": "code",
   "execution_count": null,
   "metadata": {},
   "outputs": [],
   "source": [
    "A,B=input().split()\n",
    "A_re,B_re='',''\n",
    "for index in range(2,-1,-1):\n",
    "    A_re+=A[index]\n",
    "    B_re+=B[index]\n",
    "if int(A_re)>int(B_re):\n",
    "    print(A_re)\n",
    "else:\n",
    "    print(B_re)\n",
    "    "
   ]
  },
  {
   "cell_type": "code",
   "execution_count": null,
   "metadata": {},
   "outputs": [],
   "source": [
    "A,B=input().split()\n",
    "A_re,B_re='',''\n",
    "for char in A:\n",
    "    A_re=char+A_re\n",
    "for char in B:\n",
    "    B_re=char+B_re\n",
    "\n",
    "if int(A_re)>int(B_re):\n",
    "    print(A_re)\n",
    "else:\n",
    "    print(B_re)\n",
    "    "
   ]
  },
  {
   "cell_type": "markdown",
   "metadata": {},
   "source": [
    "## 슬라이싱************"
   ]
  },
  {
   "cell_type": "code",
   "execution_count": null,
   "metadata": {},
   "outputs": [],
   "source": [
    "A,B=input().split()\n",
    "\n",
    "A=int(A[::-1])\n",
    "B=int(B[::-1])\n",
    "\n",
    "if A>B:\n",
    "    print(A)\n",
    "else:\n",
    "    print(B)"
   ]
  },
  {
   "cell_type": "markdown",
   "metadata": {},
   "source": [
    "# 백준 5622번 : 다이얼"
   ]
  },
  {
   "cell_type": "code",
   "execution_count": 18,
   "metadata": {},
   "outputs": [
    {
     "name": "stdout",
     "output_type": "stream",
     "text": [
      "UNUCIC\n",
      "U\n",
      "N\n",
      "U\n",
      "C\n",
      "I\n",
      "C\n",
      "36\n"
     ]
    }
   ],
   "source": [
    "NUM=input()\n",
    "alpha_list=[]\n",
    "for num in range(65,91):\n",
    "    alpha_list.append(chr(num))\n",
    "sec_list=[]\n",
    "for alpha in NUM:\n",
    "    item=alpha_list.index(alpha)//3\n",
    "    if alpha == 'S' or alpha=='V' or alpha =='Y' or alpha =='Z' :\n",
    "        sec_list.append(item+2)\n",
    "    else:\n",
    "        sec_list.append(item+3)\n",
    "print(sum(sec_list))"
   ]
  },
  {
   "cell_type": "markdown",
   "metadata": {},
   "source": [
    "## ord(char)-ord('A')"
   ]
  },
  {
   "cell_type": "code",
   "execution_count": 20,
   "metadata": {},
   "outputs": [
    {
     "name": "stdout",
     "output_type": "stream",
     "text": [
      "UNUCIC\n",
      "36\n"
     ]
    }
   ],
   "source": [
    "NUM=list(input())\n",
    "sec_list='22233344455566677778889999'\n",
    "time=0\n",
    "for char in NUM:\n",
    "    time+=int(sec_list[ord(char)-ord('A')])\n",
    "print(time+len(NUM))"
   ]
  }
 ],
 "metadata": {
  "kernelspec": {
   "display_name": "Python 3",
   "language": "python",
   "name": "python3"
  },
  "language_info": {
   "codemirror_mode": {
    "name": "ipython",
    "version": 3
   },
   "file_extension": ".py",
   "mimetype": "text/x-python",
   "name": "python",
   "nbconvert_exporter": "python",
   "pygments_lexer": "ipython3",
   "version": "3.7.4"
  }
 },
 "nbformat": 4,
 "nbformat_minor": 2
}
